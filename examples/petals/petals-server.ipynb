{
  "nbformat": 4,
  "nbformat_minor": 0,
  "metadata": {
    "colab": {
      "provenance": [],
      "gpuType": "T4"
    },
    "kernelspec": {
      "name": "python3",
      "display_name": "Python 3"
    },
    "language_info": {
      "name": "python"
    },
    "accelerator": "GPU"
  },
  "cells": [
    {
      "cell_type": "code",
      "execution_count": 49,
      "metadata": {
        "id": "CK9PQFOC_Krb"
      },
      "outputs": [],
      "source": [
        "%pip install -q petals\n",
        "%pip install -q accelerate==0.20.3\n",
        "%pip install -q peft==0.4.0"
      ]
    },
    {
      "cell_type": "code",
      "source": [
        "import subprocess\n",
        "import petals\n",
        "import os\n",
        "import sys\n",
        "\n",
        "if not os.path.exists(\"/models\"):\n",
        "    os.makedirs(\"/models\")"
      ],
      "metadata": {
        "id": "uORPfUBKAAdz"
      },
      "execution_count": 53,
      "outputs": []
    },
    {
      "cell_type": "code",
      "source": [
        "import logging\n",
        "\n",
        "logging.basicConfig(level=logging.DEBUG)\n",
        "\n",
        "# Correctly structured command\n",
        "command = [\n",
        "    'python', '-m', 'petals.cli.run_server', 'bigscience/bloom-560m',\n",
        "    '--cache_dir', '/models', '--num_blocks', '24', '--torch_dtype', 'float32'\n",
        "]\n",
        "\n",
        "# Start the process with real-time output capture\n",
        "process = subprocess.Popen(command, stdout=subprocess.PIPE, stderr=subprocess.PIPE, text=True, bufsize=1, universal_newlines=True)\n",
        "\n",
        "# Continuously read and print the output in real-time\n",
        "while True:\n",
        "    print('first attempt', file=sys.stdout)\n",
        "    output = process.stdout.readline()  # Read stdout\n",
        "    print('second attempt', file=sys.stdout)\n",
        "    error_output = process.stderr.readline()  # Read stderr\n",
        "    if (output == '' or error_output == '') and process.poll() is not None:\n",
        "        break\n",
        "    if output:\n",
        "        print(output.strip(), file=sys.stdout)\n",
        "    if error_output:\n",
        "        print(error_output.strip(), file=sys.stderr)\n",
        "\n",
        "# Wait for the process to finish and get its return code\n",
        "return_code = process.wait()\n",
        "print(\"Process finished with return code:\", return_code)"
      ],
      "metadata": {
        "colab": {
          "base_uri": "https://localhost:8080/"
        },
        "id": "tI6qPGtO_jL6",
        "outputId": "192079b4-8dc8-43fd-9d43-47ea1ae62042"
      },
      "execution_count": null,
      "outputs": [
        {
          "output_type": "stream",
          "name": "stdout",
          "text": [
            "first attempt\n"
          ]
        }
      ]
    }
  ]
}