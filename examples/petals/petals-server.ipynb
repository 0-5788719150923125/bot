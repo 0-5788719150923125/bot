{
  "cells": [
    {
      "cell_type": "code",
      "execution_count": 49,
      "metadata": {
        "id": "CK9PQFOC_Krb"
      },
      "outputs": [],
      "source": [
        "%pip install -q petals>=2.1.0\n",
        "%pip install -q peft>=0.5.0\n",
        "%pip install -q accelerate>=0.22.0"
      ]
    },
    {
      "cell_type": "code",
      "execution_count": 53,
      "metadata": {
        "id": "uORPfUBKAAdz"
      },
      "outputs": [],
      "source": [
        "import os\n",
        "\n",
        "if not os.path.exists(\"/models\"):\n",
        "    os.makedirs(\"/models\")"
      ]
    },
    {
      "cell_type": "code",
      "execution_count": null,
      "metadata": {
        "colab": {
          "base_uri": "https://localhost:8080/"
        },
        "id": "tI6qPGtO_jL6",
        "outputId": "192079b4-8dc8-43fd-9d43-47ea1ae62042"
      },
      "outputs": [],
      "source": [
        "!python -m petals.cli.run_server bigscience/bloom-560m --public_name \"src\" --cache_dir /models --num_blocks 24 --torch_dtype float32"
      ]
    }
  ],
  "metadata": {
    "accelerator": "GPU",
    "colab": {
      "gpuType": "T4",
      "provenance": []
    },
    "kernelspec": {
      "display_name": "Python 3",
      "name": "python3"
    },
    "language_info": {
      "name": "python"
    }
  },
  "nbformat": 4,
  "nbformat_minor": 0
}
